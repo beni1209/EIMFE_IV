{
 "cells": [
  {
   "cell_type": "markdown",
   "id": "151ef0f3",
   "metadata": {
    "slideshow": {
     "slide_type": "slide"
    }
   },
   "source": [
    "# NE-SCGLE Workshop\n",
    "\n",
    "by \n",
    "\n",
    "Jesús Benigno Zepeda López\n",
    "\n",
    "contact: beni120912@gmail.com"
   ]
  },
  {
   "cell_type": "markdown",
   "id": "ec575ac2",
   "metadata": {
    "slideshow": {
     "slide_type": "slide"
    }
   },
   "source": [
    "# Outline\n",
    "- NE-SCGLE Theory\n",
    "- Instantaneous Isochoric Quenches\n",
    "- Non-Equilibrium Dynamical arrest parameter\n",
    "- Non-Equilibrium phase diagrams"
   ]
  },
  {
   "cell_type": "markdown",
   "id": "d7c6fe6a",
   "metadata": {
    "slideshow": {
     "slide_type": "slide"
    }
   },
   "source": [
    "# NE-SCGLE Theory\n",
    "\n",
    "- Equation for the mean local density => Fick's Law => Empirical equation\n",
    "- Equation for the covariance of the mean local density => Mathematical result\n",
    "\n",
    "Reference : \n"
   ]
  },
  {
   "cell_type": "markdown",
   "id": "f7b57c90",
   "metadata": {
    "slideshow": {
     "slide_type": "slide"
    }
   },
   "source": [
    "# NE-SCGLE Theory\n",
    "\n",
    "<img src=\"./Images/fluid.png\" width=\"300\"/>\n",
    "\n"
   ]
  },
  {
   "cell_type": "markdown",
   "id": "0d85e423",
   "metadata": {
    "slideshow": {
     "slide_type": "slide"
    }
   },
   "source": [
    "# NE-SCGLE Theory\n",
    "\n",
    "<img src=\"./Images/local_density.png\" width=\"400\"/>\n",
    "\n",
    "\n"
   ]
  },
  {
   "cell_type": "markdown",
   "id": "5213fac7",
   "metadata": {
    "slideshow": {
     "slide_type": "slide"
    }
   },
   "source": [
    "# NE-SCGLE Theory\n",
    "\n",
    "<img src=\"./Images/local_density_2.png\" width=\"400\"/>\n"
   ]
  },
  {
   "cell_type": "markdown",
   "id": "166c1c5e",
   "metadata": {
    "slideshow": {
     "slide_type": "slide"
    }
   },
   "source": [
    "# NE-SCGLE Theory\n",
    "\n",
    "<img src=\"./Images/local_density_3.png\" width=\"400\"/>\n",
    "\n"
   ]
  },
  {
   "cell_type": "markdown",
   "id": "c1d5fdd6",
   "metadata": {
    "slideshow": {
     "slide_type": "slide"
    }
   },
   "source": [
    "# NE-SCGLE Theory\n",
    "\n",
    "<img src=\"./Images/Mean_covariance.png\" width=\"400\"/>\n",
    "\n"
   ]
  },
  {
   "cell_type": "markdown",
   "id": "fca8dbb6",
   "metadata": {
    "slideshow": {
     "slide_type": "slide"
    }
   },
   "source": [
    "# NE-SCGLE Theory\n",
    "\n",
    "\n",
    "\n",
    "# <Center> $\n",
    "\\frac{\\partial \\bar{n}(\\mathbf{r},t)}{\\partial t} = D_0 \\nabla \\cdot b (\\mathbf{r},t) \\bar{n}(\\mathbf{r},t) \\nabla \\beta \\mu[\\mathbf{r};\\bar{n}(\\mathbf{r},t)]\n",
    "$ <Center >\n"
   ]
  },
  {
   "cell_type": "markdown",
   "id": "2d790854",
   "metadata": {
    "slideshow": {
     "slide_type": "slide"
    }
   },
   "source": [
    "# NE-SCGLE Theory\n",
    "\n",
    "\n",
    "\n",
    "## <Center>$\n",
    "\\frac{\\partial \\sigma(\\mathbf{r},\\mathbf{r}';t)}{\\partial t}=  D_0\\nabla \\cdot \\bar{n}(\\mathbf{r},t)b(\\mathbf{r},t)\\nabla \\int d\\mathbf{r}_2 \\varepsilon [\\mathbf{r},\\mathbf{r}_2;\\bar{n}(t)] \\sigma(\\mathbf{r}_2;\\mathbf{r}';t) + \n",
    "\tD_0\\nabla \\cdot \\bar{n}(\\mathbf{r}',t)b(\\mathbf{r}',t)\\nabla \\int d\\mathbf{r}_2 \\varepsilon [\\mathbf{r}',\\mathbf{r}_2;\\bar{n}(t)] \\sigma(\\mathbf{r}_2;\\mathbf{r};t) - \n",
    "\t 2D_0\\nabla\\cdot\\bar{n}(\\mathbf{r},t)b(\\mathbf{r},t)\\nabla \\delta(\\mathbf{r}-\\mathbf{r}').\n",
    "$ <Center >\n"
   ]
  },
  {
   "cell_type": "markdown",
   "id": "38c9836c",
   "metadata": {
    "slideshow": {
     "slide_type": "slide"
    }
   },
   "source": [
    "### NE-SCGLE Theory\n",
    "  - Local Isotropy \n",
    "  - Local Homogeneity\n",
    "  - FT\n",
    "## <Center > $\n",
    "\\frac{\\partial S (k,\\mathbf{r};t)}{\\partial t}= -2k^2D_0b(\\mathbf{r},t)\\bar{n}(\\mathbf{r},t)\\left[ S(k;\\mathbf{r},t) - [\\bar{n}(\\mathbf{r},t)\\hat{\\varepsilon}(k;\\bar{n}(\\mathbf{r},t))]^{-1}\\right]\n",
    "$ <Center >\n",
    "    \n",
    " where\n",
    "    \n",
    " $ S(k;\\mathbf{r},t)=\\sigma(k;\\mathbf{r},t)/\\bar{n}(\\mathbf{r},t)$\n"
   ]
  },
  {
   "cell_type": "markdown",
   "id": "554e2aac",
   "metadata": {
    "slideshow": {
     "slide_type": "slide"
    }
   },
   "source": [
    "# Intantaneous Isochoric Quenches\n",
    "\n",
    "  - Isotropic\n",
    "  - Homogeneous\n",
    "\n",
    "# <center>$\n",
    "\\frac{\\partial \\bar{n}(t)}{\\partial t} = 0\n",
    "$,<center>\n",
    "## <Center > $\n",
    "\\frac{\\partial S (k;t)}{\\partial t}= -2k^2D_0b(t)\\bar{n}\\left[ S(k;t) - [\\bar{n}\\hat{\\varepsilon}_f(k)]^{-1}\\right]\n",
    "$, <Center >\n",
    "\n",
    "$\n",
    "F(k,z;t)= \\frac{S(k;\\mathbf{r},t)}{z+\\frac{k^2D_0 S^{-1}(k;\\mathbf{r},t)}{1+\\lambda(k)\\Delta \\zeta(z;\\mathbf{r},t)}}\n",
    "$;\n",
    "$ \n",
    "F_s(k,z;t)=\\frac{1}{z+\\frac{k^2D_0}{1+\\lambda(k)\\Delta \\zeta(z;t)}}\n",
    "$;\n",
    "$\n",
    "\\Delta\\zeta^*(\\tau;t)=\\frac{D_0}{24\\pi^3\\bar{n}}\\int _V k^2\\Bigg[ \\frac{S(k;t)-1}{S(k;t)} \\Bigg]^2 F(k,\\tau;t) F_s(k,\\tau;t) d\\mathbf{k}\n",
    "$\n",
    "    \n",
    "$\n",
    " b(t)=\\frac{1}{1+\\int_0^\\infty \\Delta \\zeta^*(\\tau;t)d\\tau}.\n",
    "$"
   ]
  },
  {
   "cell_type": "markdown",
   "id": "bbae98e1",
   "metadata": {
    "slideshow": {
     "slide_type": "slide"
    }
   },
   "source": [
    "# Intantaneous Isochoric Quenches\n",
    "\n",
    "# <center>$\n",
    "u(t)=\\int_0^t b(t')dt'$, <Center >\n",
    "\n",
    "# <center>$\n",
    "S(k;u)= [\\bar{n}\\hat{\\varepsilon}_f]^{-1}+\\{ S_0(k)-[\\bar{n}\\varepsilon_f]^{-1} \\}e^{-2k^2D_0 \\bar{n}\\hat{\\varepsilon}_f u(t)},$\n",
    "\n"
   ]
  },
  {
   "cell_type": "markdown",
   "id": "fc581805",
   "metadata": {
    "slideshow": {
     "slide_type": "slide"
    }
   },
   "source": [
    "# Non-Equilibrium arrest parameter\n",
    "\n",
    "# <center> $\\gamma^{-1}(u_a) = \\frac{1}{3 (2\\pi)^3 \\bar{n}}\\int d\\mathbf{k}\\frac{k^2[S(k;u_a)-1]^2\\lambda^2(k)}{[\\lambda(k)S(k;u_a)+k^2\\gamma(u_a)][\\lambda(k)+k^2\\gamma(u_a)]}$,\n",
    "    \n",
    "$\n",
    "\\gamma\\equiv D_{0} / \\lim_{\\tau\\to\\infty} \\Delta \\zeta^*(\\tau)\n",
    "$"
   ]
  },
  {
   "cell_type": "markdown",
   "id": "d0054945",
   "metadata": {
    "slideshow": {
     "slide_type": "slide"
    }
   },
   "source": [
    "# Non-Equilibrium arrest parameter\n",
    "\n",
    "# <center> $\n",
    " b(t)=\\frac{1}{1+\\int_0^\\infty \\Delta \\zeta^*(\\tau;t)d\\tau}\n",
    "$,\n",
    "\n",
    "What if $\\gamma(u_a)\\in(0,\\infty)$ ?\n",
    "    \n",
    "$\n",
    "\\gamma\\equiv D_{0} / \\lim_{\\tau\\to\\infty} \\Delta \\zeta^*(\\tau)\n",
    "$"
   ]
  },
  {
   "cell_type": "markdown",
   "id": "b5bcbb25",
   "metadata": {
    "slideshow": {
     "slide_type": "slide"
    }
   },
   "source": [
    "# Non-Equilibrium arrest parameter\n",
    "\n",
    "\n",
    "What would be the value of $t$ then?\n",
    "\n",
    "# <center> $\n",
    " dt=b^{-1}du\n",
    "$\n"
   ]
  },
  {
   "cell_type": "markdown",
   "id": "e09bec4d",
   "metadata": {
    "slideshow": {
     "slide_type": "slide"
    }
   },
   "source": [
    "# Non-Equilibrium arrest parameter\n",
    "\n",
    "\n",
    "## $t\\to \\infty$ as $\\gamma(u_a)\\in(0,\\infty)$"
   ]
  },
  {
   "cell_type": "markdown",
   "id": "5391458a",
   "metadata": {
    "slideshow": {
     "slide_type": "slide"
    }
   },
   "source": [
    "# Non-Equilibrium phase diagrams\n",
    "\n",
    "A subtle difference\n",
    "\n",
    "# <center> $S(u_a)\\neq [n\\varepsilon_f]^{-1}$"
   ]
  },
  {
   "cell_type": "markdown",
   "id": "87b8db11",
   "metadata": {
    "slideshow": {
     "slide_type": "slide"
    }
   },
   "source": [
    "<img src=\"./Images/Eq-Diagram.jpg\" width=\"400\"/>\n"
   ]
  },
  {
   "cell_type": "markdown",
   "id": "3ee29460",
   "metadata": {
    "slideshow": {
     "slide_type": "slide"
    }
   },
   "source": [
    "<img src=\"./Images/Neq-Diagram.jpg\" width=\"400\"/>\n"
   ]
  },
  {
   "cell_type": "code",
   "execution_count": null,
   "id": "87bdd65d",
   "metadata": {},
   "outputs": [],
   "source": []
  },
  {
   "cell_type": "code",
   "execution_count": null,
   "id": "f2b42a16",
   "metadata": {},
   "outputs": [],
   "source": []
  }
 ],
 "metadata": {
  "@webio": {
   "lastCommId": null,
   "lastKernelId": null
  },
  "celltoolbar": "Slideshow",
  "kernelspec": {
   "display_name": "Julia 1.6.6",
   "language": "julia",
   "name": "julia-1.6"
  },
  "language_info": {
   "file_extension": ".jl",
   "mimetype": "application/julia",
   "name": "julia",
   "version": "1.6.6"
  }
 },
 "nbformat": 4,
 "nbformat_minor": 5
}
