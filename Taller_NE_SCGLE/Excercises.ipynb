{
 "cells": [
  {
   "cell_type": "markdown",
   "id": "566ebfac",
   "metadata": {},
   "source": [
    "# Excercise\n",
    "\n",
    "Find all the arrested states from the structures given in data by computing $\\gamma$ "
   ]
  },
  {
   "cell_type": "code",
   "execution_count": 6,
   "id": "3bd18e4b",
   "metadata": {},
   "outputs": [],
   "source": [
    "using DelimitedFiles"
   ]
  },
  {
   "cell_type": "code",
   "execution_count": 2,
   "id": "b96c01ad",
   "metadata": {},
   "outputs": [
    {
     "data": {
      "text/plain": [
       "γ (generic function with 1 method)"
      ]
     },
     "execution_count": 2,
     "metadata": {},
     "output_type": "execute_result"
    }
   ],
   "source": [
    "function γ(ρ,Sgrid)\n",
    "    tol=1E-7\n",
    "    k, S, kw = Sgrid[:,1], Sgrid[:,2], Sgrid[:,3]\n",
    "    dimen_dum  = 4.0 * π \n",
    "\tdimen_dum *= 1.0 / ( 3 * (2.0 * π)^3 * ρ )\n",
    "    k² = k .* k\n",
    "    kc = 2.0 * 1.305 * π\n",
    "    kc² = kc * kc\n",
    "    λ = 1.0 ./ ( 1. .+ ( k² ./ kc² ) )\n",
    "    convergence = false\n",
    "    γ = 1E-7\n",
    "    i1 = 0\n",
    "    #You may precompute things over here\n",
    "    while convergence == false\n",
    "        i1+=1\n",
    "        ## Write over here for the integral\n",
    "        error = abs( 1.0 - γ / γ_test )\n",
    "        γ=γ_test\n",
    "        if ( γ > 1E40 || i1 > 10000 || error < tol )\n",
    "            convergence = 1\n",
    "        end\n",
    "    end\n",
    "    return γ\n",
    "end"
   ]
  },
  {
   "cell_type": "code",
   "execution_count": 67,
   "id": "3fd59532",
   "metadata": {},
   "outputs": [
    {
     "data": {
      "text/plain": [
       "6.962818539631333e42"
      ]
     },
     "execution_count": 67,
     "metadata": {},
     "output_type": "execute_result"
    }
   ],
   "source": [
    "ϕ=0.15\n",
    "ρ= 6.0 * ϕ / π \n",
    "T=0.89\n",
    "pre = \"./Data/u_999_S_HSSW_SH_phi_0_\"\n",
    "phi_string = lpad(convert(Int64,ϕ*1E6),6, \"0\") \n",
    "T_string=\"_T_\" * lpad(convert(Int64,floor(T)),6, \"0\") * \"_\" * lpad(convert(Int64,(T-floor(T))*1E6),6, \"0\") \n",
    "suff=\"_P_01_500000_id_01.csv\"\n",
    "File = pre * phi_string * T_string * suff\n",
    "Sgrid=readdlm(File,',',comments=true)\n",
    "γ(ρ,Sgrid)\n"
   ]
  },
  {
   "cell_type": "code",
   "execution_count": null,
   "id": "d7d63b7d",
   "metadata": {},
   "outputs": [],
   "source": [
    "\n"
   ]
  },
  {
   "cell_type": "code",
   "execution_count": 31,
   "id": "d2700f79",
   "metadata": {},
   "outputs": [
    {
     "data": {
      "text/plain": [
       "0.0"
      ]
     },
     "execution_count": 31,
     "metadata": {},
     "output_type": "execute_result"
    }
   ],
   "source": [
    "floor(0.75)"
   ]
  },
  {
   "cell_type": "code",
   "execution_count": null,
   "id": "a9e09536",
   "metadata": {},
   "outputs": [],
   "source": []
  }
 ],
 "metadata": {
  "kernelspec": {
   "display_name": "Julia 1.6.6",
   "language": "julia",
   "name": "julia-1.6"
  },
  "language_info": {
   "file_extension": ".jl",
   "mimetype": "application/julia",
   "name": "julia",
   "version": "1.6.6"
  }
 },
 "nbformat": 4,
 "nbformat_minor": 5
}
