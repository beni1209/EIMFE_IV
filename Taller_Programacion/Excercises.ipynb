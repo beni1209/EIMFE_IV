{
 "cells": [
  {
   "cell_type": "markdown",
   "id": "d7dbd54f",
   "metadata": {},
   "source": [
    "# Excercise 1: \n",
    "Load the data of \n",
    "### \"./Data/u_000_S_HSDBLEYUK_SH_phi_0_150000_T_000000_800000_P_02_00_P_01_00_P_00_500000_id_01.csv\" \n",
    "\n",
    "Into the variable \n",
    "\n",
    "### Sgrid\n",
    "\n",
    "Notes: you might want to use:\n",
    "- readlm() function from DelimitedFiles "
   ]
  },
  {
   "cell_type": "code",
   "execution_count": 1,
   "id": "1a98234a",
   "metadata": {},
   "outputs": [],
   "source": [
    "using DelimitedFiles"
   ]
  },
  {
   "cell_type": "code",
   "execution_count": 1,
   "id": "67b21d9c",
   "metadata": {},
   "outputs": [
    {
     "data": {
      "text/plain": [
       "\"u_000_S_HSDBLEYUK_SH_phi_0_150000_T_000000_800000_P_02_00_P_01_00_P_00_500000_id_01.csv\""
      ]
     },
     "execution_count": 1,
     "metadata": {},
     "output_type": "execute_result"
    }
   ],
   "source": [
    "folder=\"./Data/\"\n",
    "file=\"u_000_S_HSDBLEYUK_SH_phi_0_150000_T_000000_800000_P_02_00_P_01_00_P_00_500000_id_01.csv\""
   ]
  },
  {
   "cell_type": "markdown",
   "id": "b4571e4c",
   "metadata": {},
   "source": [
    "# Excercise 2\n",
    "## Complete the function below in order to compute\n",
    "\n",
    "## $ g(r,\\rho,Sgrid) = 1 + \\frac{1}{(2\\pi ^2) \\rho \\Delta } \\sum_{i=1}^{k_{max}} [ S_i - 1 ] \\sin(k_i r) \\sin(\\Delta k_i) kw_i $\n",
    "\n",
    "## for $r>1$\n",
    "\n",
    "with\n",
    "\n",
    "$k_i = Sgrid[i,1]$,\n",
    "\n",
    "$S_i = Sgrid[i,2]$,\n",
    "\n",
    "$kw_i = Sgrid[i,3]$ \n",
    "\n",
    "$\\Delta= k_{max}$"
   ]
  },
  {
   "cell_type": "code",
   "execution_count": 5,
   "id": "bbe79320",
   "metadata": {},
   "outputs": [
    {
     "data": {
      "text/plain": [
       "g (generic function with 1 method)"
      ]
     },
     "execution_count": 5,
     "metadata": {},
     "output_type": "execute_result"
    }
   ],
   "source": [
    "function g(r,ρ,Sgrid)\n",
    "    g=0.0\n",
    "    if r <= 1 \n",
    "        return g\n",
    "    else\n",
    "        k, S, kw = Sgrid[:,1],Sgrid[:,2],Sgrid[:,3]\n",
    "        Δ= π / k[end]\n",
    "        factor = 1.0 / ( 2.0 * π * π * ρ   )\n",
    "        g = \n",
    "    end\n",
    "    return g\n",
    "end"
   ]
  },
  {
   "cell_type": "markdown",
   "id": "4acbea81",
   "metadata": {},
   "source": [
    "# Excercise 3\n",
    "\n",
    "From the cell create an array for \"g\\prime\" solutions evaluated from 0 to 10 in 0.01 steps.\n",
    "\n",
    "Note: You may use LinRange() from base functions"
   ]
  },
  {
   "cell_type": "code",
   "execution_count": 6,
   "id": "930e2e35",
   "metadata": {},
   "outputs": [
    {
     "data": {
      "text/plain": [
       "g′ (generic function with 1 method)"
      ]
     },
     "execution_count": 6,
     "metadata": {},
     "output_type": "execute_result"
    }
   ],
   "source": [
    "Φ = 0.15\n",
    "ρ = 6.0 * Φ / pi\n",
    "g′(r) = g(r,Φ,Sgrid)"
   ]
  },
  {
   "cell_type": "code",
   "execution_count": 7,
   "id": "5a3cf2a6",
   "metadata": {},
   "outputs": [
    {
     "data": {
      "text/plain": [
       "1001-element Vector{Float64}:\n",
       " 0.0\n",
       " 0.0\n",
       " 0.0\n",
       " 0.0\n",
       " 0.0\n",
       " 0.0\n",
       " 0.0\n",
       " 0.0\n",
       " 0.0\n",
       " 0.0\n",
       " 0.0\n",
       " 0.0\n",
       " 0.0\n",
       " ⋮\n",
       " 1.0000001774169707\n",
       " 0.9999998260305665\n",
       " 0.9999995048431287\n",
       " 0.9999992667507429\n",
       " 0.999999150712287\n",
       " 0.9999991753761414\n",
       " 0.9999993360859842\n",
       " 0.9999996057459127\n",
       " 0.9999999393861212\n",
       " 1.0000002816601958\n",
       " 1.0000005760243742\n",
       " 1.0000007740766335"
      ]
     },
     "execution_count": 7,
     "metadata": {},
     "output_type": "execute_result"
    }
   ],
   "source": []
  },
  {
   "cell_type": "markdown",
   "id": "4c0c26c2",
   "metadata": {},
   "source": [
    "# Excercise 4\n",
    "\n",
    "Save the computed arrays from Excercise 3 into the file\n",
    "\n",
    "### \"./Data/u_000_g_HSDBLEYUK_SH_phi_0_150000_T_000000_800000_P_02_00_P_01_00_P_00_500000_id_01.csv\n",
    "\n",
    "Note:\n",
    "\n",
    "You may use writedlm() from DelimitedFiles"
   ]
  },
  {
   "cell_type": "code",
   "execution_count": 8,
   "id": "3a9e5ced",
   "metadata": {},
   "outputs": [],
   "source": [
    "folder=\"./Data/\"\n",
    "file=\"u_000_g_HSDBLEYUK_SH_phi_0_150000_T_000000_800000_P_02_00_P_01_00_P_00_500000_id_01.csv\"\n",
    "open( folder * file,\"w\" ) do io\n",
    "    writedlm( io,  )\n",
    "end"
   ]
  },
  {
   "cell_type": "markdown",
   "id": "f0949ad3",
   "metadata": {},
   "source": [
    "# Extra 1\n",
    "\n",
    "Plot S(k) vs k and g\\prime(r) vs r using any plotter you want.\n",
    "\n",
    "Note:\n",
    "\n",
    "you may use plot() from Plots within Julia\n",
    "\n",
    "or\n",
    "\n",
    "gnuplot by setting the option\n",
    "\n",
    "set datafile separator \"\\t,\"\n",
    "\n",
    "gnuplot may use any of the separators given by such command"
   ]
  },
  {
   "cell_type": "markdown",
   "id": "720c5cc5",
   "metadata": {},
   "source": [
    "# Extra 2\n",
    "\n",
    "### Automatize the whole process in order to obtain g\\prime for all the *_S_* files in Data"
   ]
  },
  {
   "cell_type": "code",
   "execution_count": null,
   "id": "1182d94e",
   "metadata": {},
   "outputs": [],
   "source": []
  }
 ],
 "metadata": {
  "kernelspec": {
   "display_name": "Julia 1.6.6",
   "language": "julia",
   "name": "julia-1.6"
  },
  "language_info": {
   "file_extension": ".jl",
   "mimetype": "application/julia",
   "name": "julia",
   "version": "1.6.6"
  }
 },
 "nbformat": 4,
 "nbformat_minor": 5
}
