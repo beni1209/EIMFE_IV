{
 "cells": [
  {
   "cell_type": "markdown",
   "id": "a76afa2c",
   "metadata": {},
   "source": [
    "# Excercise 1: \n",
    "Load the data of \n",
    "### \"./Data/u_000_S_HSDBLEYUK_SH_phi_0_150000_T_000000_800000_P_02_00_P_01_00_P_00_500000_id_01.csv\" \n",
    "\n",
    "Into the variable \n",
    "\n",
    "### Sgrid\n",
    "\n",
    "Notes: you might want to use:\n",
    "- readlm() function from DelimitedFiles "
   ]
  },
  {
   "cell_type": "code",
   "execution_count": 1,
   "id": "87c81d61",
   "metadata": {},
   "outputs": [],
   "source": [
    "using DelimitedFiles"
   ]
  },
  {
   "cell_type": "code",
   "execution_count": 4,
   "id": "0acc87cc",
   "metadata": {},
   "outputs": [
    {
     "data": {
      "text/plain": [
       "256×3 Matrix{Float64}:\n",
       "  0.00087556  0.312278  0.0022469\n",
       "  0.0046127   0.312279  0.00522906\n",
       "  0.0113338   0.312281  0.00821252\n",
       "  0.0210362   0.312287  0.0111914\n",
       "  0.0337144   0.312301  0.0141638\n",
       "  0.0493609   0.312327  0.0171276\n",
       "  0.0679663   0.31237   0.0200813\n",
       "  0.0895195   0.312437  0.0230229\n",
       "  0.114008    0.312536  0.0259508\n",
       "  0.141416    0.312675  0.0288632\n",
       "  0.171728    0.312863  0.0317583\n",
       "  0.204926    0.313111  0.0346345\n",
       "  0.24099     0.31343   0.0374899\n",
       "  ⋮                     \n",
       " 40.3255      0.997372  0.107228\n",
       " 40.4283      0.997202  0.0983237\n",
       " 40.5222      0.997074  0.0893604\n",
       " 40.607       0.996981  0.0803437\n",
       " 40.6828      0.996916  0.071279\n",
       " 40.7496      0.996874  0.0621716\n",
       " 40.8072      0.996849  0.0530271\n",
       " 40.8556      0.996836  0.043851\n",
       " 40.8949      0.996831  0.0346487\n",
       " 40.9249      0.996831  0.0254259\n",
       " 40.9457      0.996832  0.0161892\n",
       " 40.9573      0.996833  0.00695642"
      ]
     },
     "execution_count": 4,
     "metadata": {},
     "output_type": "execute_result"
    }
   ],
   "source": [
    "folder=\"./Data/\"\n",
    "file=\"u_000_S_HSDBLEYUK_SH_phi_0_150000_T_000000_800000_P_02_00_P_01_00_P_00_500000_id_01.csv\"\n",
    "Sgrid=readdlm(folder*file,',',comments=true)"
   ]
  },
  {
   "cell_type": "markdown",
   "id": "da20a7da",
   "metadata": {},
   "source": [
    "# Excercise 2\n",
    "## Complete the function below in order to compute\n",
    "\n",
    "## $ g(r,\\rho,Sgrid) = 1 + \\frac{1}{(2\\pi ^2) \\rho \\Delta } \\sum_{i=1}^{k_{max}} [ S_i - 1 ] \\sin(k_i r) \\sin(\\Delta k_i) kw_i $\n",
    "\n",
    "## for $r>1$\n",
    "\n",
    "with\n",
    "\n",
    "$k_i = Sgrid[i,1]$,\n",
    "\n",
    "$S_i = Sgrid[i,2]$,\n",
    "\n",
    "$kw_i = Sgrid[i,3]$ \n",
    "\n",
    "$\\Delta= k_{max}$"
   ]
  },
  {
   "cell_type": "code",
   "execution_count": 5,
   "id": "6814ff4d",
   "metadata": {},
   "outputs": [
    {
     "data": {
      "text/plain": [
       "g (generic function with 1 method)"
      ]
     },
     "execution_count": 5,
     "metadata": {},
     "output_type": "execute_result"
    }
   ],
   "source": [
    "function g(r,ρ,Sgrid)\n",
    "    g=0.0\n",
    "    if r <= 1 \n",
    "        return g\n",
    "    else\n",
    "        k, S, kw = Sgrid[:,1],Sgrid[:,2],Sgrid[:,3]\n",
    "        Δ= π / k[end]\n",
    "        factor = 1.0 / ( 2.0 * π * π * ρ   )\n",
    "        g = 1.0 + factor * sum( ( S .- 1 ) .* sin.( k .* r ) .* sin.( Δ .* k ) .* kw ) \n",
    "    end\n",
    "    return g\n",
    "end"
   ]
  },
  {
   "cell_type": "markdown",
   "id": "35b9310f",
   "metadata": {},
   "source": [
    "# Excercise 3\n",
    "\n",
    "From the cell create an array for \"g\\prime\" solutions evaluated from 0 to 10 in 0.01 steps.\n",
    "\n",
    "Note: You may use LinRange() from base functions"
   ]
  },
  {
   "cell_type": "code",
   "execution_count": 6,
   "id": "ef67c808",
   "metadata": {},
   "outputs": [
    {
     "data": {
      "text/plain": [
       "g′ (generic function with 1 method)"
      ]
     },
     "execution_count": 6,
     "metadata": {},
     "output_type": "execute_result"
    }
   ],
   "source": [
    "Φ = 0.15\n",
    "ρ = 6.0 * Φ / pi\n",
    "g′(r) = g(r,Φ,Sgrid)"
   ]
  },
  {
   "cell_type": "code",
   "execution_count": 7,
   "id": "505b1cad",
   "metadata": {},
   "outputs": [
    {
     "data": {
      "text/plain": [
       "1001-element Vector{Float64}:\n",
       " 0.0\n",
       " 0.0\n",
       " 0.0\n",
       " 0.0\n",
       " 0.0\n",
       " 0.0\n",
       " 0.0\n",
       " 0.0\n",
       " 0.0\n",
       " 0.0\n",
       " 0.0\n",
       " 0.0\n",
       " 0.0\n",
       " ⋮\n",
       " 1.0000001774169707\n",
       " 0.9999998260305665\n",
       " 0.9999995048431287\n",
       " 0.9999992667507429\n",
       " 0.999999150712287\n",
       " 0.9999991753761414\n",
       " 0.9999993360859842\n",
       " 0.9999996057459127\n",
       " 0.9999999393861212\n",
       " 1.0000002816601958\n",
       " 1.0000005760243742\n",
       " 1.0000007740766335"
      ]
     },
     "execution_count": 7,
     "metadata": {},
     "output_type": "execute_result"
    }
   ],
   "source": [
    "r=LinRange(0,10,1001)\n",
    "g_values=g′.(r)"
   ]
  },
  {
   "cell_type": "markdown",
   "id": "47453b0f",
   "metadata": {},
   "source": [
    "# Excercise 4\n",
    "\n",
    "Save the computed arrays from Excercise 3 into the file\n",
    "\n",
    "### \"./Data/u_000_g_HSDBLEYUK_SH_phi_0_150000_T_000000_800000_P_02_00_P_01_00_P_00_500000_id_01.csv\n",
    "\n",
    "Note:\n",
    "\n",
    "You may use writedlm() from DelimitedFiles"
   ]
  },
  {
   "cell_type": "code",
   "execution_count": 8,
   "id": "09695a54",
   "metadata": {},
   "outputs": [],
   "source": [
    "folder=\"./Data/\"\n",
    "file=\"u_000_g_HSDBLEYUK_SH_phi_0_150000_T_000000_800000_P_02_00_P_01_00_P_00_500000_id_01.csv\"\n",
    "open( folder * file,\"w\" ) do io\n",
    "    writedlm( io, [r g_values] )\n",
    "end"
   ]
  },
  {
   "cell_type": "markdown",
   "id": "7636e48a",
   "metadata": {},
   "source": [
    "# Extra 1\n",
    "\n",
    "Plot S(k) vs k and g\\prime(r) vs r using any plotter you want.\n",
    "\n",
    "Note:\n",
    "\n",
    "you may use plot() from Plots within Julia\n",
    "\n",
    "or\n",
    "\n",
    "gnuplot by setting the option\n",
    "\n",
    "set datafile separator \"\\t,\"\n",
    "\n",
    "gnuplot may use any of the separators given by such command"
   ]
  },
  {
   "cell_type": "markdown",
   "id": "ff75e1fb",
   "metadata": {},
   "source": [
    "# Extra 2\n",
    "\n",
    "### Automatize the whole process in order to obtain g\\prime for all the *_S_* files in Data"
   ]
  },
  {
   "cell_type": "code",
   "execution_count": null,
   "id": "d2e61316",
   "metadata": {},
   "outputs": [],
   "source": []
  }
 ],
 "metadata": {
  "kernelspec": {
   "display_name": "Julia 1.6.6",
   "language": "julia",
   "name": "julia-1.6"
  },
  "language_info": {
   "file_extension": ".jl",
   "mimetype": "application/julia",
   "name": "julia",
   "version": "1.6.6"
  }
 },
 "nbformat": 4,
 "nbformat_minor": 5
}
